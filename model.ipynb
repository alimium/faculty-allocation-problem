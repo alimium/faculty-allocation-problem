{
 "cells": [
  {
   "cell_type": "code",
   "execution_count": 1,
   "metadata": {},
   "outputs": [],
   "source": [
    "# import section\n",
    "import pyomo.environ as pyo\n",
    "import numpy as np\n",
    "import pandas as pd"
   ]
  },
  {
   "cell_type": "code",
   "execution_count": 2,
   "metadata": {},
   "outputs": [],
   "source": [
    "student_size = 30\n",
    "prof_size = 12"
   ]
  },
  {
   "cell_type": "code",
   "execution_count": 21,
   "metadata": {},
   "outputs": [],
   "source": [
    "model = pyo.ConcreteModel()\n",
    "\n",
    "# sets\n",
    "profs = list(range(prof_size))\n",
    "students = list(range(student_size))\n",
    "model.add_component('profs', pyo.Set(initialize=profs))\n",
    "model.add_component('students', pyo.Set(initialize=students))\n",
    "\n",
    "# parameters\n",
    "# TODO\n",
    "capacities = pd.read_csv('./data/cap.csv', index_col=0).to_numpy()\n",
    "def capacities_rule(model, i):\n",
    "    return capacities[i,0]\n",
    "model.add_component('cap', pyo.Param(model.profs, initialize=capacities_rule))\n",
    "\n",
    "prof_preferences = pd.read_csv('./data/prof_pref.csv', index_col=0).to_numpy()\n",
    "def prof_preferences_rule(model, i, j):\n",
    "    return prof_preferences[i,j]\n",
    "model.add_component('prof_pref', pyo.Param(model.profs, model.students, initialize=prof_preferences_rule))\n",
    "\n",
    "std_preferences = pd.read_csv('./data/std_pref.csv', index_col=0).to_numpy()\n",
    "def std_preferences_rule(model, i, j):\n",
    "    return std_preferences[i,j]\n",
    "model.add_component('std_pref', pyo.Param(model.students, model.profs, initialize=std_preferences_rule))\n",
    "\n",
    "\n",
    "#variables\n",
    "# TODO\n",
    "model.add_component('delta', pyo.Var(model.profs, model.students, domain=pyo.Binary))\n",
    "\n",
    "# objective function\n",
    "# TODO\n",
    "\n",
    "# constraints\n",
    "def single_prof_const_rule(model, j):\n",
    "    return sum(model.delta[i,j] for i in model.profs) == 1\n",
    "model.add_component('single_prof_per_student_const', pyo.Constraint(model.students, rule=single_prof_const_rule))\n",
    "\n",
    "def prof_capacity_const_rule(model, i):\n",
    "    return sum(model.delta[i,j] for j in model.students) == model.cap[i]\n",
    "model.add_component('prof_capacity_const', pyo.Constraint(model.profs, rule=prof_capacity_const_rule))\n"
   ]
  }
 ],
 "metadata": {
  "kernelspec": {
   "display_name": "lin_opt",
   "language": "python",
   "name": "python3"
  },
  "language_info": {
   "codemirror_mode": {
    "name": "ipython",
    "version": 3
   },
   "file_extension": ".py",
   "mimetype": "text/x-python",
   "name": "python",
   "nbconvert_exporter": "python",
   "pygments_lexer": "ipython3",
   "version": "3.8.15"
  },
  "orig_nbformat": 4
 },
 "nbformat": 4,
 "nbformat_minor": 2
}
